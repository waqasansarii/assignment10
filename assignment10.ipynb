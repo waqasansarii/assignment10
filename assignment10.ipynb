{
 "cells": [
  {
   "cell_type": "code",
   "execution_count": 3,
   "metadata": {},
   "outputs": [
    {
     "name": "stdout",
     "output_type": "stream",
     "text": [
      "25\n"
     ]
    }
   ],
   "source": [
    "#Write a Python program to create a person class. Include attributes like name,\n",
    "# country and date of birth. Implement a method to determine the person's age.\n",
    "from datetime import date\n",
    "\n",
    "class Person:\n",
    "    def __init__(self,name, country , date_of_birth) -> None:\n",
    "        self.name = name\n",
    "        self.country = country\n",
    "        self.date_of_birth = date_of_birth\n",
    "    \n",
    "    def calculate_age (self ):\n",
    "           current_year = date.today().year\n",
    "           birth_year = date.fromisoformat(self.date_of_birth).year\n",
    "           age = current_year - birth_year\n",
    "           return age\n",
    "       \n",
    "person = Person('waqas','Pakistan','1999-06-04')\n",
    "print(person.calculate_age())        \n",
    "        "
   ]
  },
  {
   "cell_type": "code",
   "execution_count": 7,
   "metadata": {},
   "outputs": [
    {
     "name": "stdout",
     "output_type": "stream",
     "text": [
      "11\n",
      "36\n",
      "-55\n",
      "0.09836065573770492\n"
     ]
    }
   ],
   "source": [
    "#Write a Python program to create a calculator class. Include methods for basic arithmetic operations\n",
    "\n",
    "class Calculator:\n",
    "    def add(self,x,y):\n",
    "        return x + y\n",
    "    \n",
    "    def multiply(self,x,y):\n",
    "        return x * y\n",
    "    \n",
    "    def minus(self,x,y):\n",
    "        return x - y\n",
    "    \n",
    "    def division(self,x,y):\n",
    "        return x / y\n",
    "    \n",
    "calculate = Calculator()\n",
    "print(calculate.add(5,6))    \n",
    "print(calculate.multiply(6,6))    \n",
    "print(calculate.minus(6,61))    \n",
    "print(calculate.division(6,61))    "
   ]
  },
  {
   "cell_type": "code",
   "execution_count": 17,
   "metadata": {},
   "outputs": [
    {
     "name": "stdout",
     "output_type": "stream",
     "text": [
      "[{'name': 'biryani', 'price': 200, 'id': 1}, {'name': 'nehari', 'price': 250, 'id': 2}, {'name': 'qorma', 'price': 350, 'id': 3}]\n",
      "[{'name': 'biryani', 'price': 200, 'id': 1}, {'name': 'qorma', 'price': 350, 'id': 3}]\n",
      "550\n"
     ]
    }
   ],
   "source": [
    "#Write a Python program to create a class representing a shopping cart. \n",
    "# Include methods for adding and removing items, and calculating the total price.\n",
    "\n",
    "class ShoppingCart :\n",
    "    def __init__(self) -> None:\n",
    "        self.items = []\n",
    "        \n",
    "    def add_items(self , name,price):\n",
    "        cart_obj = {\n",
    "           \"name\":name,\n",
    "           \"price\":price,\n",
    "           \"id\": len(self.items) + 1\n",
    "        }\n",
    "        self.items.append(cart_obj)\n",
    "    \n",
    "    def remove_item(self , id):\n",
    "        temp_list = []\n",
    "        for val in self.items:\n",
    "            if val['id'] != id:\n",
    "             temp_list.append(val) \n",
    "            #  print(val)\n",
    "        # self.items.remove(id) \n",
    "        self.items = temp_list \n",
    "    \n",
    "    def calculate_total_price(self):\n",
    "        total_price = 0\n",
    "        for val in self.items:\n",
    "           total_price += val['price']   \n",
    "           \n",
    "        return total_price    \n",
    "        \n",
    "shopping_cart = ShoppingCart()\n",
    "# adding items \n",
    "shopping_cart.add_items('biryani',200)              \n",
    "shopping_cart.add_items('nehari',250)  \n",
    "shopping_cart.add_items('qorma',350)  \n",
    "# print the item list that added   \n",
    "print(shopping_cart.items)  \n",
    "# remove item by id \n",
    "shopping_cart.remove_item(2) \n",
    "# checking remaining items  \n",
    "print(shopping_cart.items)  \n",
    "print(shopping_cart.calculate_total_price())  \n",
    "      "
   ]
  },
  {
   "cell_type": "code",
   "execution_count": 23,
   "metadata": {},
   "outputs": [
    {
     "name": "stdout",
     "output_type": "stream",
     "text": [
      "500\n",
      "20500\n",
      "remaining balance 15500\n",
      "15500\n"
     ]
    }
   ],
   "source": [
    "#Write a Python program to create a class representing a bank. \n",
    "# Include methods for managing customer accounts and transactions.\n",
    "\n",
    "class Bank:\n",
    "    def __init__(self,name , initial_amount ) -> None:\n",
    "        self.name = name\n",
    "        self.balance = initial_amount\n",
    "    \n",
    "    def withdraw(self , amount):\n",
    "        if self.balance > amount:\n",
    "           self.balance -= amount \n",
    "           print(f'remaining balance {self.balance}')\n",
    "        else:\n",
    "            print(\"you don't have enough balance.\") \n",
    "    \n",
    "    def add_balance(self,amount):\n",
    "        if amount>0:\n",
    "           self.balance += amount \n",
    "        \n",
    "    def check_balance(self):\n",
    "        return self.balance   \n",
    "    \n",
    "customer = Bank('waqas', 500)\n",
    "print(customer.check_balance()) \n",
    "customer.add_balance(20000)   \n",
    "print(customer.check_balance()) \n",
    "customer.withdraw(5000)                    \n",
    "print(customer.check_balance()) \n"
   ]
  },
  {
   "cell_type": "code",
   "execution_count": 35,
   "metadata": {},
   "outputs": [
    {
     "name": "stdout",
     "output_type": "stream",
     "text": [
      "{'name': 'waqas', 'age': 24}\n",
      "{'name': 'wahid', 'age': 25}\n",
      "{'name': 'hamza', 'age': 23}\n",
      "This course is not available\n",
      "student 1 courses ['English', 'Physics']\n",
      "student 2 courses ['Urdu']\n",
      "student 3 courses ['Math']\n",
      "['English', 'Urdu', 'Physics', 'Math', 'Chemistry']\n"
     ]
    }
   ],
   "source": [
    "#In this exercise, you will create a Python class named Student to represent students. \n",
    "#The class should have the following attributes and methods:\n",
    "\n",
    "#Attributes:\n",
    "\n",
    "#name: instance variable\n",
    "#age: instance variable\n",
    "#courses: instance variable\n",
    "#available_courses: class variable -> possible values [\"English\", \"Urdu\", \"Physics\", \"Math\", \"Chemistry\"]\n",
    "\n",
    "#Methods:\n",
    "\n",
    "#display_info(): An instance method that displays the student's name and age.\n",
    "#enroll(): An instance method that allows a student to enroll in a course by adding it to their list of enrolled courses.\n",
    "#list_courses(): An instance method that displays all the courses that student is enrolled\n",
    "#list_available_courses(): An instance method that display all the avaiable courses\n",
    "\n",
    "#1. Create three instances of the Student class with different names and ages.\n",
    "\n",
    "#2. enroll the students in courses by calling the enroll method.\n",
    "#make sure student should only enroll in the course that are listing in available course\n",
    "#i.e if user input the course \"Islamyat\" then program should not allow it\n",
    "\n",
    "#3. call list_courses\n",
    "#4. call list_available_courses\n",
    "\n",
    "class Student:\n",
    "    available = [\"English\", \"Urdu\", \"Physics\", \"Math\", \"Chemistry\"]\n",
    "    def __init__(self,name, age, courses ) -> None:\n",
    "        self.name = name\n",
    "        self.age = age\n",
    "        self.courses = courses \n",
    "        \n",
    "    def display_info(self):\n",
    "        return {\n",
    "            \"name\": self.name,\n",
    "            \"age\": self.age\n",
    "        }\n",
    "    \n",
    "    def enroll(self , course):\n",
    "        if course in self.available:\n",
    "            self.courses.append(course)\n",
    "        else:\n",
    "            print('This course is not available')\n",
    "            \n",
    "    def list_courses(self):\n",
    "        return self.courses\n",
    "    \n",
    "    def list_available_courses(self):\n",
    "        return self.available  \n",
    "\n",
    "#1 \n",
    "std1 = Student('waqas',24,[])    \n",
    "std2 = Student('wahid',25,[])    \n",
    "std3 = Student('hamza',23,[])  \n",
    "print(std1.display_info()) \n",
    "print(std2.display_info()) \n",
    "print(std3.display_info()) \n",
    "  \n",
    "#2  \n",
    "std1.enroll('English')        \n",
    "std1.enroll('islamiyat')        \n",
    "std1.enroll('Physics')\n",
    "std2.enroll('Urdu')\n",
    "std3.enroll('Math')\n",
    "\n",
    "#3      \n",
    "print('student 1 courses',std1.list_courses())        \n",
    "print('student 2 courses',std2.list_courses())        \n",
    "print('student 3 courses',std3.list_courses()) \n",
    "\n",
    "#4       \n",
    "print(std1.list_available_courses())  \n"
   ]
  },
  {
   "cell_type": "code",
   "execution_count": null,
   "metadata": {},
   "outputs": [],
   "source": []
  }
 ],
 "metadata": {
  "kernelspec": {
   "display_name": "Python 3",
   "language": "python",
   "name": "python3"
  },
  "language_info": {
   "codemirror_mode": {
    "name": "ipython",
    "version": 3
   },
   "file_extension": ".py",
   "mimetype": "text/x-python",
   "name": "python",
   "nbconvert_exporter": "python",
   "pygments_lexer": "ipython3",
   "version": "3.11.8"
  }
 },
 "nbformat": 4,
 "nbformat_minor": 2
}
